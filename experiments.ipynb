{
 "cells": [
  {
   "cell_type": "markdown",
   "metadata": {},
   "source": [
    "Imports"
   ]
  },
  {
   "cell_type": "code",
   "execution_count": 1,
   "metadata": {},
   "outputs": [],
   "source": [
    "import numpy as np\n",
    "import pandas as pd"
   ]
  },
  {
   "cell_type": "markdown",
   "metadata": {},
   "source": [
    "Data Reading and creation of stats only dataset"
   ]
  },
  {
   "cell_type": "code",
   "execution_count": null,
   "metadata": {},
   "outputs": [],
   "source": [
    "data = pd.read_csv('sampled.csv')\n",
    "data = data.reset_index()\n",
    "data=data.sample(frac=1)\n",
    "# removing smells classes exceptionCatchingThrowing and dependentTest becouse not has value\n",
    "data1 = data.drop(columns=['commit', 'testClass', 'testMethod', 'testFilePath', 'productionFilePath', 'relativeTestFilePath', 'relativeProductionFilePath', 'tsTestClass', 'tsTestMethod', 'is_sampled', 'dependentTest', 'exceptionCatchingThrowing', 'vocabulary', 'tokens_parser', 'keywords_parser', 'strings_parser', 'string_type_parser', 'anotations_parser'], axis=1)\n",
    "#Removing additional columns to make dataset compatible with Neural Network, keeping only numerical values\n",
    "\n",
    "data1 = data1.replace(np.nan, 0)\n",
    "data1 = data1.replace(True, 1)\n",
    "data1 = data1.replace(False, 0)\n",
    "data1 = data1.replace('flaky', 1)\n",
    "data1 = data1.replace('nonflaky', 0)\n",
    "data2=data1.drop(columns=['project', 'dataset'])\n",
    "print(data2.head(5))"
   ]
  }
 ],
 "metadata": {
  "kernelspec": {
   "display_name": "base",
   "language": "python",
   "name": "python3"
  },
  "language_info": {
   "codemirror_mode": {
    "name": "ipython",
    "version": 3
   },
   "file_extension": ".py",
   "mimetype": "text/x-python",
   "name": "python",
   "nbconvert_exporter": "python",
   "pygments_lexer": "ipython3",
   "version": "3.9.12"
  },
  "orig_nbformat": 4
 },
 "nbformat": 4,
 "nbformat_minor": 2
}
