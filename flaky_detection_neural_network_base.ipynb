{
  "nbformat": 4,
  "nbformat_minor": 0,
  "metadata": {
    "colab": {
      "provenance": []
    },
    "kernelspec": {
      "name": "python3",
      "display_name": "Python 3"
    },
    "language_info": {
      "name": "python"
    }
  },
  "cells": [
    {
      "cell_type": "code",
      "source": [
        "import pandas as pd\n",
        "import numpy as np\n",
        "import matplotlib.pyplot as plt\n",
        "import seaborn as sns\n",
        "from sklearn.model_selection import train_test_split\n",
        "from sklearn.preprocessing import StandardScaler, OneHotEncoder\n",
        "from sklearn.metrics import confusion_matrix, f1_score\n",
        "import tensorflow as tf\n",
        "from tensorflow.keras.models import Sequential\n",
        "from tensorflow.keras.layers import Dense, BatchNormalization, Dropout\n",
        "from tensorflow.keras.optimizers import Adam\n",
        "from tensorflow.keras.regularizers import l2\n",
        "from tensorflow.keras.callbacks import EarlyStopping, ReduceLROnPlateau"
      ],
      "metadata": {
        "id": "BSdadhbPNj5T"
      },
      "execution_count": 1,
      "outputs": []
    },
    {
      "cell_type": "code",
      "source": [
        "%cd \"/content/drive/MyDrive/TestFlakinessDetector\""
      ],
      "metadata": {
        "colab": {
          "base_uri": "https://localhost:8080/"
        },
        "id": "QRJlrBllNkXk",
        "outputId": "26ac39ef-3ae7-4132-dfab-b9339857c069"
      },
      "execution_count": 4,
      "outputs": [
        {
          "output_type": "stream",
          "name": "stdout",
          "text": [
            "/content/drive/MyDrive/TestFlakinessDetector\n"
          ]
        }
      ]
    },
    {
      "cell_type": "code",
      "source": [
        "data = pd.read_csv('processed_data.csv').sample(frac=1)\n",
        "\n",
        "# Split the data into features and target\n",
        "X = data.drop(columns=['klass'])  # Replace 'klass' with your actual target column name\n",
        "y = data['klass']  # Target column\n",
        "\n",
        "# Splitting data into train, validation, and test sets\n",
        "X_train, X_temp, y_train, y_temp = train_test_split(X, y, test_size=0.2)\n",
        "X_val, X_test, y_val, y_test = train_test_split(X_temp, y_temp, test_size=0.2)\n",
        "\n",
        "\n",
        "model = tf.keras.models.Sequential([\n",
        "    tf.keras.layers.Dense(16, activation='relu', input_shape=(X_train.shape[1],)),  # Reduced complexity\n",
        "    tf.keras.layers.Dropout(0.5),  # Increased dropout\n",
        "    tf.keras.layers.Dense(64, activation='relu'),\n",
        "    tf.keras.layers.Dropout(0.5),\n",
        "    tf.keras.layers.Dense(1, activation='sigmoid')\n",
        "])\n",
        "\n",
        "model.compile(optimizer='adam', loss='binary_crossentropy', metrics=['accuracy'])\n",
        "\n",
        "# Callbacks\n",
        "early_stopping = EarlyStopping(monitor='val_accuracy', patience=10, restore_best_weights=True)\n",
        "reduce_lr = ReduceLROnPlateau(monitor='val_loss', factor=0.2, patience=3, min_lr=0.001)\n",
        "\n",
        "# Training the model with callbacks\n",
        "history = model.fit(X_train, y_train, epochs=50, batch_size=32,\n",
        "                    validation_data=(X_val, y_val),\n",
        "                    verbose=1,\n",
        "                    callbacks=[early_stopping, reduce_lr])\n",
        "\n",
        "\n",
        "\n",
        "# Evaluating the model\n",
        "y_pred = model.predict(X_test)\n",
        "y_pred = (y_pred > 0.5).astype(int)\n",
        "f1 = f1_score(y_test, y_pred, average='macro')\n",
        "\n",
        "\n",
        "\n",
        "print(\"===================================================\\n\"*5)\n",
        "print(f'Accuracy: {model.evaluate(X_test, y_test)[1]}')\n",
        "print(f'Macro F1 Score: {f1}')\n",
        "\n",
        "\n",
        "\n",
        "\n",
        "cm = confusion_matrix(y_test, y_pred)\n",
        "\n",
        "# Labels for the classes\n",
        "classes = ['Nonflaky (0)', 'Flaky (1)']\n",
        "\n",
        "plt.figure(figsize=(8, 6))\n",
        "sns.heatmap(cm, annot=True, fmt='d', cmap='Blues', xticklabels=classes, yticklabels=classes)\n",
        "plt.title('Confusion Matrix')\n",
        "plt.ylabel('True Label')\n",
        "plt.xlabel('Predicted Label')\n",
        "plt.show()\n",
        "\n"
      ],
      "metadata": {
        "colab": {
          "base_uri": "https://localhost:8080/",
          "height": 1000
        },
        "id": "GGG32WAiPcOD",
        "outputId": "befeebee-34b3-4fe4-8a4e-d069a11b38f1"
      },
      "execution_count": 10,
      "outputs": [
        {
          "output_type": "stream",
          "name": "stdout",
          "text": [
            "Epoch 1/50\n",
            "74/74 [==============================] - 3s 11ms/step - loss: 48.5522 - accuracy: 0.5008 - val_loss: 8.2788 - val_accuracy: 0.4470 - lr: 0.0010\n",
            "Epoch 2/50\n",
            "74/74 [==============================] - 0s 5ms/step - loss: 26.3662 - accuracy: 0.5017 - val_loss: 5.5020 - val_accuracy: 0.4852 - lr: 0.0010\n",
            "Epoch 3/50\n",
            "74/74 [==============================] - 1s 8ms/step - loss: 15.4963 - accuracy: 0.5241 - val_loss: 2.2593 - val_accuracy: 0.5233 - lr: 0.0010\n",
            "Epoch 4/50\n",
            "74/74 [==============================] - 0s 5ms/step - loss: 9.0244 - accuracy: 0.5339 - val_loss: 1.7223 - val_accuracy: 0.5403 - lr: 0.0010\n",
            "Epoch 5/50\n",
            "74/74 [==============================] - 0s 5ms/step - loss: 5.0517 - accuracy: 0.5686 - val_loss: 0.7498 - val_accuracy: 0.6419 - lr: 0.0010\n",
            "Epoch 6/50\n",
            "74/74 [==============================] - 1s 7ms/step - loss: 2.6555 - accuracy: 0.6207 - val_loss: 0.5025 - val_accuracy: 0.8559 - lr: 0.0010\n",
            "Epoch 7/50\n",
            "74/74 [==============================] - 0s 7ms/step - loss: 1.1210 - accuracy: 0.7062 - val_loss: 0.4900 - val_accuracy: 0.8750 - lr: 0.0010\n",
            "Epoch 8/50\n",
            "74/74 [==============================] - 0s 5ms/step - loss: 0.5938 - accuracy: 0.7727 - val_loss: 0.5309 - val_accuracy: 0.7119 - lr: 0.0010\n",
            "Epoch 9/50\n",
            "74/74 [==============================] - 0s 3ms/step - loss: 0.5306 - accuracy: 0.7684 - val_loss: 0.4342 - val_accuracy: 0.9068 - lr: 0.0010\n",
            "Epoch 10/50\n",
            "74/74 [==============================] - 0s 3ms/step - loss: 0.5376 - accuracy: 0.7769 - val_loss: 0.3939 - val_accuracy: 0.8708 - lr: 0.0010\n",
            "Epoch 11/50\n",
            "74/74 [==============================] - 0s 3ms/step - loss: 0.5046 - accuracy: 0.8010 - val_loss: 0.3843 - val_accuracy: 0.8665 - lr: 0.0010\n",
            "Epoch 12/50\n",
            "74/74 [==============================] - 0s 3ms/step - loss: 0.4911 - accuracy: 0.7959 - val_loss: 0.3939 - val_accuracy: 0.9047 - lr: 0.0010\n",
            "Epoch 13/50\n",
            "74/74 [==============================] - 0s 3ms/step - loss: 0.4997 - accuracy: 0.7985 - val_loss: 0.3811 - val_accuracy: 0.8898 - lr: 0.0010\n",
            "Epoch 14/50\n",
            "74/74 [==============================] - 0s 3ms/step - loss: 0.4666 - accuracy: 0.8124 - val_loss: 0.4225 - val_accuracy: 0.8411 - lr: 0.0010\n",
            "Epoch 15/50\n",
            "74/74 [==============================] - 0s 3ms/step - loss: 0.4633 - accuracy: 0.8091 - val_loss: 0.3664 - val_accuracy: 0.8623 - lr: 0.0010\n",
            "Epoch 16/50\n",
            "74/74 [==============================] - 0s 3ms/step - loss: 0.4459 - accuracy: 0.8201 - val_loss: 0.3540 - val_accuracy: 0.8771 - lr: 0.0010\n",
            "Epoch 17/50\n",
            "74/74 [==============================] - 0s 3ms/step - loss: 0.4521 - accuracy: 0.8158 - val_loss: 0.3657 - val_accuracy: 0.8729 - lr: 0.0010\n",
            "Epoch 18/50\n",
            "74/74 [==============================] - 0s 3ms/step - loss: 0.4409 - accuracy: 0.8264 - val_loss: 0.3507 - val_accuracy: 0.8856 - lr: 0.0010\n",
            "Epoch 19/50\n",
            "74/74 [==============================] - 0s 3ms/step - loss: 0.4374 - accuracy: 0.8400 - val_loss: 0.3483 - val_accuracy: 0.8919 - lr: 0.0010\n",
            "4/4 [==============================] - 0s 4ms/step\n",
            "===================================================\n",
            "===================================================\n",
            "===================================================\n",
            "===================================================\n",
            "===================================================\n",
            "\n",
            "4/4 [==============================] - 0s 5ms/step - loss: 0.4055 - accuracy: 0.9244\n",
            "Accuracy: 0.924369752407074\n",
            "Macro F1 Score: 0.9243483788938335\n"
          ]
        },
        {
          "output_type": "display_data",
          "data": {
            "text/plain": [
              "<Figure size 800x600 with 2 Axes>"
            ],
            "image/png": "[encoded data removed]"
          },
          "metadata": {}
        }
      ]
    }
  ]
}