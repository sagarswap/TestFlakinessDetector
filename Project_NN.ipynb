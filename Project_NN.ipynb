{
 "cells": [
  {
   "cell_type": "markdown",
   "metadata": {},
   "source": [
    "Imports needed for the Project"
   ]
  },
  {
   "cell_type": "code",
   "execution_count": 5,
   "metadata": {},
   "outputs": [],
   "source": [
    "import numpy as np\n",
    "import pandas as pd\n",
    "import torch\n",
    "import torch.nn as nn\n",
    "from torch.utils.data import Dataset\n",
    "\n",
    "device=torch.device('cpu')"
   ]
  },
  {
   "cell_type": "markdown",
   "metadata": {},
   "source": [
    "Data Reading and Processing"
   ]
  },
  {
   "cell_type": "code",
   "execution_count": 17,
   "metadata": {},
   "outputs": [
    {
     "name": "stdout",
     "output_type": "stream",
     "text": [
      "   index  loc  smellsCount  assertionRoulette  conditionalTestLogic  \\\n",
      "0      0   85            4                  1                     1   \n",
      "1      1   18            4                  1                     1   \n",
      "2      2   25            2                  0                     0   \n",
      "3      3   21            4                  1                     0   \n",
      "4      4   40            3                  1                     0   \n",
      "\n",
      "   constructorInitialization  defaultTest  duplicateAssert  eagerTest  \\\n",
      "0                          0            0                0          1   \n",
      "1                          0            0                0          0   \n",
      "2                          0            0                0          0   \n",
      "3                          0            0                0          1   \n",
      "4                          0            0                1          0   \n",
      "\n",
      "   emptyTest  ...  magicNumberTest  mysteryGuest  printStatement  \\\n",
      "0          0  ...                0             0               0   \n",
      "1          0  ...                0             0               0   \n",
      "2          0  ...                0             0               0   \n",
      "3          0  ...                1             0               0   \n",
      "4          0  ...                1             0               0   \n",
      "\n",
      "   redundantAssertion  resourceOptimism  sensitiveEquality  sleepyTest  \\\n",
      "0                   0                 0                  0           0   \n",
      "1                   0                 0                  0           1   \n",
      "2                   0                 0                  0           0   \n",
      "3                   0                 0                  0           0   \n",
      "4                   0                 0                  0           0   \n",
      "\n",
      "   unknownTest  verboseTest  klass  \n",
      "0            0            0      1  \n",
      "1            0            0      1  \n",
      "2            1            0      1  \n",
      "3            0            0      1  \n",
      "4            0            0      1  \n",
      "\n",
      "[5 rows x 23 columns]\n"
     ]
    }
   ],
   "source": [
    "data = pd.read_csv('sampled.csv')\n",
    "data = data.reset_index()\n",
    "\n",
    "# removing smells classes exceptionCatchingThrowing and dependentTest becouse not has value\n",
    "data = data.drop(columns=['commit', 'testClass', 'testMethod', 'testFilePath', 'productionFilePath', 'relativeTestFilePath', 'relativeProductionFilePath', 'tsTestClass', 'tsTestMethod', 'is_sampled', 'dependentTest', 'exceptionCatchingThrowing', 'vocabulary', 'tokens_parser', 'keywords_parser', 'strings_parser', 'string_type_parser', 'anotations_parser'], axis=1)\n",
    "#Removing additional columns to make dataset compatible with Neural Network, keeping only numerical values\n",
    "data=data.drop(columns=['project', 'dataset'])\n",
    "\n",
    "data = data.replace(np.nan, 0)\n",
    "data = data.replace(True, 1)\n",
    "data = data.replace(False, 0)\n",
    "\n",
    "data = data.replace('flaky', 1)\n",
    "data = data.replace('nonflaky', 0)\n",
    "print(data.head(5))\n",
    "data=data.sample(frac=1)\n",
    "#Shuffle Data\n",
    "data.to_csv(\"processed_data.csv\", sep=\",\", index=False)"
   ]
  },
  {
   "cell_type": "markdown",
   "metadata": {},
   "source": [
    "Neural Network Hyper-Parameters"
   ]
  },
  {
   "cell_type": "code",
   "execution_count": null,
   "metadata": {},
   "outputs": [],
   "source": [
    "input_size=23\n",
    "hidden_size=100\n",
    "num_classes=6\n",
    "num_epochs=10\n",
    "batch_size=300\n",
    "learning_rate=0.0001"
   ]
  },
  {
   "cell_type": "markdown",
   "metadata": {},
   "source": [
    "DataLoader for the neural network pipeline"
   ]
  },
  {
   "cell_type": "code",
   "execution_count": null,
   "metadata": {},
   "outputs": [],
   "source": [
    "class LogDatasetTrain(Dataset): \n",
    "    def __init__(self):\n",
    "        xy=np.loadtxt(\"./processed_data.csv\", delimiter=\",\", dtype=np.float32, skiprows=1)\n",
    "        self.y=torch.from_numpy(xy[:, -6:]) #Take last col\n",
    "        self.x=torch.from_numpy(xy[:, :-6]) #Take all but the last col\n",
    "        self.n_samples = xy.shape[0]\n",
    "\n",
    "    def __getitem__(self, index):\n",
    "        return self.x[index], self.y[index]\n",
    "    \n",
    "    def __len__(self):\n",
    "        return self.n_samples"
   ]
  },
  {
   "cell_type": "code",
   "execution_count": null,
   "metadata": {},
   "outputs": [],
   "source": [
    "class LogDatasetTest(Dataset): \n",
    "    def __init__(self):\n",
    "        xy=np.loadtxt(\"./data/test_data.csv\", delimiter=\",\", dtype=np.float32, skiprows=1)\n",
    "        self.y=torch.from_numpy(xy[:, -6:]) #Take last col\n",
    "        self.x=torch.from_numpy(xy[:, :-6]) #Take all but the last col\n",
    "        self.n_samples = xy.shape[0]\n",
    "\n",
    "    def __getitem__(self, index):\n",
    "        return self.x[index], self.y[index]\n",
    "    \n",
    "    def __len__(self):\n",
    "        return self.n_samples"
   ]
  },
  {
   "cell_type": "markdown",
   "metadata": {},
   "source": [
    "Neural Network Class using PyTorch"
   ]
  },
  {
   "cell_type": "code",
   "execution_count": null,
   "metadata": {},
   "outputs": [],
   "source": [
    "class NeuralNet(nn.Module):\n",
    "    def __init__(self, input_size, hidden_size, num_classes):\n",
    "        super(NeuralNet, self).__init__()\n",
    "        self.l1=nn.Linear(input_size, hidden_size)\n",
    "        self.relu=nn.ReLU()\n",
    "        self.l2=nn.Linear(hidden_size, num_classes)\n",
    "\n",
    "    def forward(self, x):\n",
    "        out=self.l1(x)\n",
    "        out=self.relu(out)\n",
    "        out=self.l2(out)\n",
    "        return out"
   ]
  },
  {
   "cell_type": "markdown",
   "metadata": {},
   "source": [
    "Loading Data to DataLoader"
   ]
  },
  {
   "cell_type": "code",
   "execution_count": null,
   "metadata": {},
   "outputs": [],
   "source": [
    "train_data=LogDatasetTrain()\n",
    "test_data=LogDatasetTest()\n",
    "train_loader=torch.utils.data.DataLoader(dataset=train_data, batch_size=batch_size, shuffle=True)\n",
    "test_loader=torch.utils.data.DataLoader(dataset=test_data, batch_size=batch_size, shuffle=False)"
   ]
  },
  {
   "cell_type": "markdown",
   "metadata": {},
   "source": [
    "Creation of Neural Network"
   ]
  },
  {
   "cell_type": "code",
   "execution_count": null,
   "metadata": {},
   "outputs": [],
   "source": [
    "model=NeuralNet(input_size, hidden_size, num_classes)\n",
    "#loss and optimizer\n",
    "criterion=nn.BCEWithLogitsLoss()\n",
    "optimizer=torch.optim.Adam(model.parameters(), lr=learning_rate)"
   ]
  },
  {
   "cell_type": "markdown",
   "metadata": {},
   "source": [
    "Training Loop"
   ]
  },
  {
   "cell_type": "code",
   "execution_count": null,
   "metadata": {},
   "outputs": [],
   "source": [
    "n_total_steps=len(train_loader)\n",
    "for epoch in range(num_epochs):\n",
    "    for i, (x_tr, y_tr) in enumerate(train_loader):\n",
    "\n",
    "        #forward\n",
    "        y_pred=model(x_tr)\n",
    "        #print(y_pred.shape)\n",
    "        #print(y_tr.shape)\n",
    "        #print(type(y_pred[0]))\n",
    "        #print(type(y_tr[0]))\n",
    "        y_tr=y_tr.type(torch.FloatTensor)\n",
    "        loss=criterion(y_pred, y_tr)\n",
    "\n",
    "        #backwards\n",
    "        optimizer.zero_grad()\n",
    "        loss.backward()\n",
    "        optimizer.step()\n",
    "\n",
    "        if (i+1)%100 == 0:\n",
    "            print(f'epoch {epoch+1} / {num_epochs}, step {i+1}/{n_total_steps}, loss = {loss.item():.4f}')"
   ]
  },
  {
   "cell_type": "markdown",
   "metadata": {},
   "source": [
    "Test Loop"
   ]
  },
  {
   "cell_type": "code",
   "execution_count": null,
   "metadata": {},
   "outputs": [],
   "source": [
    "with torch.no_grad():\n",
    "    n_correct=0\n",
    "    n_samples=0\n",
    "    for images, labels in test_loader:\n",
    "        outputs = model(images)\n",
    "        pred=[]\n",
    "        ans=[]\n",
    "        _, predicictions = torch.max(outputs, 1)\n",
    "        _, lab = torch.max(labels, 1)\n",
    "        for l in labels:\n",
    "            if l[0]==1.0:\n",
    "                ans.append(0)\n",
    "            elif l[1]==1.0:\n",
    "                ans.append(1)\n",
    "            elif l[2]==1.0:\n",
    "                ans.append(2)\n",
    "            elif l[3]==1.0:\n",
    "                ans.append(3)\n",
    "            elif l[4]==1.0:\n",
    "                ans.append(4)\n",
    "            elif l[5]==1.0:\n",
    "                ans.append(5)\n",
    "            \n",
    "        for o in predicictions:\n",
    "            if o == 0:\n",
    "                pred.append(0)\n",
    "            elif o == 1:\n",
    "                pred.append(1)\n",
    "            elif o == 2:\n",
    "                pred.append(2)\n",
    "            elif o == 3:\n",
    "                pred.append(3)\n",
    "            elif o == 4:\n",
    "                pred.append(4)\n",
    "            elif o == 5:\n",
    "                pred.append(5)\n",
    "\n",
    "        for i in range(len(ans)):\n",
    "            if ans[i]==pred[i]:\n",
    "                n_correct+=1\n",
    "        n_samples += labels.shape[0]\n",
    "    acc=100.0*n_correct/n_samples\n",
    "    print(f'Accuracy = {acc}')"
   ]
  }
 ],
 "metadata": {
  "kernelspec": {
   "display_name": "base",
   "language": "python",
   "name": "python3"
  },
  "language_info": {
   "codemirror_mode": {
    "name": "ipython",
    "version": 3
   },
   "file_extension": ".py",
   "mimetype": "text/x-python",
   "name": "python",
   "nbconvert_exporter": "python",
   "pygments_lexer": "ipython3",
   "version": "3.9.12"
  },
  "orig_nbformat": 4
 },
 "nbformat": 4,
 "nbformat_minor": 2
}
