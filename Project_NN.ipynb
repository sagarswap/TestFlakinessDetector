{
 "cells": [
  {
   "cell_type": "code",
   "execution_count": 1,
   "metadata": {},
   "outputs": [],
   "source": [
    "import numpy as np\n",
    "import pandas as pd"
   ]
  },
  {
   "cell_type": "code",
   "execution_count": 2,
   "metadata": {},
   "outputs": [],
   "source": [
    "data = pd.read_csv('sampled.csv')"
   ]
  },
  {
   "cell_type": "code",
   "execution_count": 3,
   "metadata": {},
   "outputs": [
    {
     "name": "stdout",
     "output_type": "stream",
     "text": [
      "   index project  loc  smellsCount  assertionRoulette  conditionalTestLogic  \\\n",
      "0      0   oozie   85            4                  1                     1   \n",
      "1      1  hadoop   18            4                  1                     1   \n",
      "2      2   oozie   25            2                  0                     0   \n",
      "3      3  okhttp   21            4                  1                     0   \n",
      "4      4   oozie   40            3                  1                     0   \n",
      "\n",
      "   constructorInitialization  defaultTest  duplicateAssert  eagerTest  ...  \\\n",
      "0                          0            0                0          1  ...   \n",
      "1                          0            0                0          0  ...   \n",
      "2                          0            0                0          0  ...   \n",
      "3                          0            0                0          1  ...   \n",
      "4                          0            0                1          0  ...   \n",
      "\n",
      "   mysteryGuest  printStatement  redundantAssertion  resourceOptimism  \\\n",
      "0             0               0                   0                 0   \n",
      "1             0               0                   0                 0   \n",
      "2             0               0                   0                 0   \n",
      "3             0               0                   0                 0   \n",
      "4             0               0                   0                 0   \n",
      "\n",
      "   sensitiveEquality  sleepyTest  unknownTest  verboseTest  klass  \\\n",
      "0                  0           0            0            0      1   \n",
      "1                  0           1            0            0      1   \n",
      "2                  0           0            1            0      1   \n",
      "3                  0           0            0            0      1   \n",
      "4                  0           0            0            0      1   \n",
      "\n",
      "         dataset  \n",
      "0  msr4flakiness  \n",
      "1  msr4flakiness  \n",
      "2  msr4flakiness  \n",
      "3  msr4flakiness  \n",
      "4  msr4flakiness  \n",
      "\n",
      "[5 rows x 25 columns]\n"
     ]
    }
   ],
   "source": [
    "data = data.reset_index()\n",
    "\n",
    "# removing smells classes exceptionCatchingThrowing and dependentTest becouse not has value\n",
    "data = data.drop(columns=['commit', 'testClass', 'testMethod', 'testFilePath', 'productionFilePath', 'relativeTestFilePath', 'relativeProductionFilePath', 'tsTestClass', 'tsTestMethod', 'is_sampled', 'dependentTest', 'exceptionCatchingThrowing', 'vocabulary', 'tokens_parser', 'keywords_parser', 'strings_parser', 'string_type_parser', 'anotations_parser'], axis=1)\n",
    "\n",
    "data = data.replace(np.nan, 0)\n",
    "data = data.replace(True, 1)\n",
    "data = data.replace(False, 0)\n",
    "\n",
    "data = data.replace('flaky', 1)\n",
    "data = data.replace('nonflaky', 0)\n",
    "print(data.head(5))"
   ]
  },
  {
   "cell_type": "code",
   "execution_count": null,
   "metadata": {},
   "outputs": [],
   "source": [
    "class LogDatasetTrain(Dataset): \n",
    "    def __init__(self):\n",
    "        xy=np.loadtxt(\"./data/train_data.csv\", delimiter=\",\", dtype=np.float32, skiprows=1)\n",
    "        self.y=torch.from_numpy(xy[:, -6:]) #Take last col\n",
    "        self.x=torch.from_numpy(xy[:, :-6]) #Take all but the last col\n",
    "        self.n_samples = xy.shape[0]\n",
    "\n",
    "    def __getitem__(self, index):\n",
    "        return self.x[index], self.y[index]\n",
    "    \n",
    "    def __len__(self):\n",
    "        return self.n_samples"
   ]
  },
  {
   "cell_type": "code",
   "execution_count": null,
   "metadata": {},
   "outputs": [],
   "source": [
    "class LogDatasetTest(Dataset): \n",
    "    def __init__(self):\n",
    "        xy=np.loadtxt(\"./data/test_data.csv\", delimiter=\",\", dtype=np.float32, skiprows=1)\n",
    "        self.y=torch.from_numpy(xy[:, -6:]) #Take last col\n",
    "        self.x=torch.from_numpy(xy[:, :-6]) #Take all but the last col\n",
    "        self.n_samples = xy.shape[0]\n",
    "\n",
    "    def __getitem__(self, index):\n",
    "        return self.x[index], self.y[index]\n",
    "    \n",
    "    def __len__(self):\n",
    "        return self.n_samples"
   ]
  },
  {
   "cell_type": "code",
   "execution_count": null,
   "metadata": {},
   "outputs": [],
   "source": [
    "class NeuralNet(nn.Module):\n",
    "    def __init__(self, input_size, hidden_size, num_classes):\n",
    "        super(NeuralNet, self).__init__()\n",
    "        self.l1=nn.Linear(input_size, hidden_size)\n",
    "        self.relu=nn.ReLU()\n",
    "        self.l2=nn.Linear(hidden_size, num_classes)\n",
    "\n",
    "    def forward(self, x):\n",
    "        out=self.l1(x)\n",
    "        out=self.relu(out)\n",
    "        out=self.l2(out)\n",
    "        return out"
   ]
  }
 ],
 "metadata": {
  "kernelspec": {
   "display_name": "base",
   "language": "python",
   "name": "python3"
  },
  "language_info": {
   "codemirror_mode": {
    "name": "ipython",
    "version": 3
   },
   "file_extension": ".py",
   "mimetype": "text/x-python",
   "name": "python",
   "nbconvert_exporter": "python",
   "pygments_lexer": "ipython3",
   "version": "3.9.12"
  },
  "orig_nbformat": 4
 },
 "nbformat": 4,
 "nbformat_minor": 2
}
