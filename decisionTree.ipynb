{
 "cells": [
  {
   "cell_type": "code",
   "execution_count": 1,
   "metadata": {},
   "outputs": [],
   "source": [
    "import numpy as np\n",
    "import pandas as pd\n",
    "from sklearn.tree import DecisionTreeClassifier\n",
    "from sklearn.model_selection import train_test_split\n",
    "from sklearn import metrics\n",
    "from chefboost import Chefboost as chef"
   ]
  },
  {
   "cell_type": "code",
   "execution_count": 3,
   "metadata": {},
   "outputs": [
    {
     "data": {
      "text/html": [
       "<div>\n",
       "<style scoped>\n",
       "    .dataframe tbody tr th:only-of-type {\n",
       "        vertical-align: middle;\n",
       "    }\n",
       "\n",
       "    .dataframe tbody tr th {\n",
       "        vertical-align: top;\n",
       "    }\n",
       "\n",
       "    .dataframe thead th {\n",
       "        text-align: right;\n",
       "    }\n",
       "</style>\n",
       "<table border=\"1\" class=\"dataframe\">\n",
       "  <thead>\n",
       "    <tr style=\"text-align: right;\">\n",
       "      <th></th>\n",
       "      <th>index</th>\n",
       "      <th>loc</th>\n",
       "      <th>smellsCount</th>\n",
       "      <th>assertionRoulette</th>\n",
       "      <th>conditionalTestLogic</th>\n",
       "      <th>constructorInitialization</th>\n",
       "      <th>defaultTest</th>\n",
       "      <th>duplicateAssert</th>\n",
       "      <th>eagerTest</th>\n",
       "      <th>emptyTest</th>\n",
       "      <th>...</th>\n",
       "      <th>magicNumberTest</th>\n",
       "      <th>mysteryGuest</th>\n",
       "      <th>printStatement</th>\n",
       "      <th>redundantAssertion</th>\n",
       "      <th>resourceOptimism</th>\n",
       "      <th>sensitiveEquality</th>\n",
       "      <th>sleepyTest</th>\n",
       "      <th>unknownTest</th>\n",
       "      <th>verboseTest</th>\n",
       "      <th>klass</th>\n",
       "    </tr>\n",
       "  </thead>\n",
       "  <tbody>\n",
       "    <tr>\n",
       "      <th>0</th>\n",
       "      <td>1221</td>\n",
       "      <td>22</td>\n",
       "      <td>4</td>\n",
       "      <td>1</td>\n",
       "      <td>0</td>\n",
       "      <td>0</td>\n",
       "      <td>0</td>\n",
       "      <td>0</td>\n",
       "      <td>1</td>\n",
       "      <td>0</td>\n",
       "      <td>...</td>\n",
       "      <td>1</td>\n",
       "      <td>0</td>\n",
       "      <td>0</td>\n",
       "      <td>0</td>\n",
       "      <td>0</td>\n",
       "      <td>0</td>\n",
       "      <td>0</td>\n",
       "      <td>0</td>\n",
       "      <td>0</td>\n",
       "      <td>1</td>\n",
       "    </tr>\n",
       "    <tr>\n",
       "      <th>1</th>\n",
       "      <td>1599</td>\n",
       "      <td>18</td>\n",
       "      <td>1</td>\n",
       "      <td>0</td>\n",
       "      <td>0</td>\n",
       "      <td>0</td>\n",
       "      <td>0</td>\n",
       "      <td>0</td>\n",
       "      <td>0</td>\n",
       "      <td>0</td>\n",
       "      <td>...</td>\n",
       "      <td>0</td>\n",
       "      <td>0</td>\n",
       "      <td>0</td>\n",
       "      <td>0</td>\n",
       "      <td>0</td>\n",
       "      <td>0</td>\n",
       "      <td>0</td>\n",
       "      <td>1</td>\n",
       "      <td>0</td>\n",
       "      <td>0</td>\n",
       "    </tr>\n",
       "    <tr>\n",
       "      <th>2</th>\n",
       "      <td>596</td>\n",
       "      <td>17</td>\n",
       "      <td>4</td>\n",
       "      <td>0</td>\n",
       "      <td>1</td>\n",
       "      <td>0</td>\n",
       "      <td>0</td>\n",
       "      <td>0</td>\n",
       "      <td>1</td>\n",
       "      <td>0</td>\n",
       "      <td>...</td>\n",
       "      <td>0</td>\n",
       "      <td>0</td>\n",
       "      <td>0</td>\n",
       "      <td>0</td>\n",
       "      <td>0</td>\n",
       "      <td>0</td>\n",
       "      <td>0</td>\n",
       "      <td>1</td>\n",
       "      <td>0</td>\n",
       "      <td>1</td>\n",
       "    </tr>\n",
       "    <tr>\n",
       "      <th>3</th>\n",
       "      <td>306</td>\n",
       "      <td>11</td>\n",
       "      <td>1</td>\n",
       "      <td>1</td>\n",
       "      <td>0</td>\n",
       "      <td>0</td>\n",
       "      <td>0</td>\n",
       "      <td>0</td>\n",
       "      <td>0</td>\n",
       "      <td>0</td>\n",
       "      <td>...</td>\n",
       "      <td>0</td>\n",
       "      <td>0</td>\n",
       "      <td>0</td>\n",
       "      <td>0</td>\n",
       "      <td>0</td>\n",
       "      <td>0</td>\n",
       "      <td>0</td>\n",
       "      <td>0</td>\n",
       "      <td>0</td>\n",
       "      <td>1</td>\n",
       "    </tr>\n",
       "    <tr>\n",
       "      <th>4</th>\n",
       "      <td>1890</td>\n",
       "      <td>13</td>\n",
       "      <td>2</td>\n",
       "      <td>0</td>\n",
       "      <td>0</td>\n",
       "      <td>0</td>\n",
       "      <td>0</td>\n",
       "      <td>0</td>\n",
       "      <td>1</td>\n",
       "      <td>0</td>\n",
       "      <td>...</td>\n",
       "      <td>0</td>\n",
       "      <td>0</td>\n",
       "      <td>0</td>\n",
       "      <td>0</td>\n",
       "      <td>0</td>\n",
       "      <td>0</td>\n",
       "      <td>0</td>\n",
       "      <td>0</td>\n",
       "      <td>0</td>\n",
       "      <td>0</td>\n",
       "    </tr>\n",
       "  </tbody>\n",
       "</table>\n",
       "<p>5 rows × 23 columns</p>\n",
       "</div>"
      ],
      "text/plain": [
       "   index  loc  smellsCount  assertionRoulette  conditionalTestLogic  \\\n",
       "0   1221   22            4                  1                     0   \n",
       "1   1599   18            1                  0                     0   \n",
       "2    596   17            4                  0                     1   \n",
       "3    306   11            1                  1                     0   \n",
       "4   1890   13            2                  0                     0   \n",
       "\n",
       "   constructorInitialization  defaultTest  duplicateAssert  eagerTest  \\\n",
       "0                          0            0                0          1   \n",
       "1                          0            0                0          0   \n",
       "2                          0            0                0          1   \n",
       "3                          0            0                0          0   \n",
       "4                          0            0                0          1   \n",
       "\n",
       "   emptyTest  ...  magicNumberTest  mysteryGuest  printStatement  \\\n",
       "0          0  ...                1             0               0   \n",
       "1          0  ...                0             0               0   \n",
       "2          0  ...                0             0               0   \n",
       "3          0  ...                0             0               0   \n",
       "4          0  ...                0             0               0   \n",
       "\n",
       "   redundantAssertion  resourceOptimism  sensitiveEquality  sleepyTest  \\\n",
       "0                   0                 0                  0           0   \n",
       "1                   0                 0                  0           0   \n",
       "2                   0                 0                  0           0   \n",
       "3                   0                 0                  0           0   \n",
       "4                   0                 0                  0           0   \n",
       "\n",
       "   unknownTest  verboseTest  klass  \n",
       "0            0            0      1  \n",
       "1            1            0      0  \n",
       "2            1            0      1  \n",
       "3            0            0      1  \n",
       "4            0            0      0  \n",
       "\n",
       "[5 rows x 23 columns]"
      ]
     },
     "execution_count": 3,
     "metadata": {},
     "output_type": "execute_result"
    }
   ],
   "source": [
    "data = pd.read_csv('processed_data.csv')\n",
    "data.head(5)"
   ]
  },
  {
   "cell_type": "markdown",
   "metadata": {},
   "source": [
    "Dataset Split"
   ]
  },
  {
   "cell_type": "code",
   "execution_count": 16,
   "metadata": {},
   "outputs": [],
   "source": [
    "features=data.drop(columns=['klass', 'index'])\n",
    "labels=data['klass']\n",
    "X_train, X_test, y_train, y_test = train_test_split(features, labels, test_size=0.1, random_state=1)"
   ]
  },
  {
   "cell_type": "code",
   "execution_count": 51,
   "metadata": {},
   "outputs": [
    {
     "name": "stdout",
     "output_type": "stream",
     "text": [
      "Accuracy :  0.831081081081081\n",
      "Recall :  0.8523489932885906\n",
      "F1 Score :  0.8355263157894737\n"
     ]
    }
   ],
   "source": [
    "clf = DecisionTreeClassifier(criterion=\"gini\", max_depth=5)\n",
    "clf = clf.fit(X_train,y_train)\n",
    "y_pred = clf.predict(X_test)\n",
    "print(\"Accuracy : \",metrics.accuracy_score(y_test, y_pred))\n",
    "print(\"Recall : \",metrics.recall_score(y_test, y_pred))\n",
    "print(\"F1 Score : \",metrics.f1_score(y_test, y_pred))"
   ]
  },
  {
   "cell_type": "code",
   "execution_count": 58,
   "metadata": {},
   "outputs": [
    {
     "name": "stdout",
     "output_type": "stream",
     "text": [
      "Accuracy :  0.8412162162162162\n",
      "Recall :  0.8120805369127517\n",
      "F1 Score :  0.8373702422145329\n"
     ]
    }
   ],
   "source": [
    "X_train2=X_train.drop(columns=['conditionalTestLogic', 'eagerTest', 'magicNumberTest', 'redundantAssertion', 'resourceOptimism', 'unknownTest', 'verboseTest'])\n",
    "X_test2=X_test.drop(columns=['conditionalTestLogic', 'eagerTest', 'magicNumberTest', 'redundantAssertion', 'resourceOptimism', 'unknownTest', 'verboseTest'])\n",
    "clf2 = DecisionTreeClassifier()\n",
    "clf2 = clf2.fit(X_train2,y_train)\n",
    "y_pred2 = clf2.predict(X_test2)\n",
    "print(\"Accuracy : \",metrics.accuracy_score(y_test, y_pred2))\n",
    "print(\"Recall : \",metrics.recall_score(y_test, y_pred2))\n",
    "print(\"F1 Score : \",metrics.f1_score(y_test, y_pred2))"
   ]
  },
  {
   "cell_type": "markdown",
   "metadata": {},
   "source": [
    "Using new DT Algos"
   ]
  },
  {
   "cell_type": "code",
   "execution_count": 9,
   "metadata": {},
   "outputs": [],
   "source": [
    "features=data.drop(columns=['index'])\n",
    "labels=data['klass']\n",
    "X_train, X_test= train_test_split(features, test_size=0.1, random_state=1)"
   ]
  },
  {
   "cell_type": "code",
   "execution_count": 10,
   "metadata": {},
   "outputs": [
    {
     "name": "stdout",
     "output_type": "stream",
     "text": [
      "[INFO]:  8 CPU cores will be allocated in parallel running\n",
      "WARNING: You set the algorithm to  C4.5  but the Decision column of your data set has non-object type.\n",
      "That's why, the algorithm is set to Regression to handle the data set.\n",
      "Regression  tree is going to be built...\n",
      "-------------------------\n",
      "finished in  34.152284145355225  seconds\n",
      "-------------------------\n",
      "Evaluate  train set\n",
      "-------------------------\n",
      "MAE:  0.06095496105655266\n",
      "MSE:  0.05638333897731121\n",
      "RMSE:  0.23745176136914886\n",
      "RAE:  0.3274322037247699\n",
      "RRSE:  0.47554223730877015\n",
      "Mean:  0.5259058584490349\n",
      "MAE / Mean:  11.590470057952349 %\n",
      "RMSE / Mean:  45.151001373026176 %\n"
     ]
    },
    {
     "ename": "IndexError",
     "evalue": "index 21 is out of bounds for axis 0 with size 21",
     "output_type": "error",
     "traceback": [
      "\u001b[1;31m---------------------------------------------------------------------------\u001b[0m",
      "\u001b[1;31mIndexError\u001b[0m                                Traceback (most recent call last)",
      "\u001b[1;32mc:\\Programming\\RIT\\Soft Dev for DS\\SAST21-Paper-main\\decisionTree.ipynb Cell 9\u001b[0m line \u001b[0;36m3\n\u001b[0;32m      <a href='vscode-notebook-cell:/c%3A/Programming/RIT/Soft%20Dev%20for%20DS/SAST21-Paper-main/decisionTree.ipynb#X10sZmlsZQ%3D%3D?line=0'>1</a>\u001b[0m config \u001b[39m=\u001b[39m {\u001b[39m'\u001b[39m\u001b[39malgorithm\u001b[39m\u001b[39m'\u001b[39m: \u001b[39m'\u001b[39m\u001b[39mC4.5\u001b[39m\u001b[39m'\u001b[39m}\n\u001b[0;32m      <a href='vscode-notebook-cell:/c%3A/Programming/RIT/Soft%20Dev%20for%20DS/SAST21-Paper-main/decisionTree.ipynb#X10sZmlsZQ%3D%3D?line=1'>2</a>\u001b[0m model \u001b[39m=\u001b[39m chef\u001b[39m.\u001b[39mfit(data, config \u001b[39m=\u001b[39m config, target_label \u001b[39m=\u001b[39m \u001b[39m'\u001b[39m\u001b[39mklass\u001b[39m\u001b[39m'\u001b[39m)\n\u001b[1;32m----> <a href='vscode-notebook-cell:/c%3A/Programming/RIT/Soft%20Dev%20for%20DS/SAST21-Paper-main/decisionTree.ipynb#X10sZmlsZQ%3D%3D?line=2'>3</a>\u001b[0m prediction \u001b[39m=\u001b[39m chef\u001b[39m.\u001b[39;49mevaluate(model, X_test, task\u001b[39m=\u001b[39;49m\u001b[39m\"\u001b[39;49m\u001b[39mtest\u001b[39;49m\u001b[39m\"\u001b[39;49m, target_label\u001b[39m=\u001b[39;49m\u001b[39m\"\u001b[39;49m\u001b[39mklass\u001b[39;49m\u001b[39m\"\u001b[39;49m)\n\u001b[0;32m      <a href='vscode-notebook-cell:/c%3A/Programming/RIT/Soft%20Dev%20for%20DS/SAST21-Paper-main/decisionTree.ipynb#X10sZmlsZQ%3D%3D?line=3'>4</a>\u001b[0m \u001b[39mprint\u001b[39m(prediction)\n",
      "File \u001b[1;32mc:\\Programming\\Python\\Install Files\\lib\\site-packages\\chefboost\\Chefboost.py:548\u001b[0m, in \u001b[0;36mevaluate\u001b[1;34m(model, df, target_label, task)\u001b[0m\n\u001b[0;32m    544\u001b[0m \tdf \u001b[39m=\u001b[39m df[new_column_order]\n\u001b[0;32m    546\u001b[0m \u001b[39m#--------------------------\u001b[39;00m\n\u001b[1;32m--> 548\u001b[0m functions\u001b[39m.\u001b[39;49mbulk_prediction(df, model)\n\u001b[0;32m    550\u001b[0m enableAdaboost \u001b[39m=\u001b[39m model[\u001b[39m\"\u001b[39m\u001b[39mconfig\u001b[39m\u001b[39m\"\u001b[39m][\u001b[39m\"\u001b[39m\u001b[39menableAdaboost\u001b[39m\u001b[39m\"\u001b[39m]\n\u001b[0;32m    552\u001b[0m \u001b[39mif\u001b[39;00m enableAdaboost \u001b[39m==\u001b[39m \u001b[39mTrue\u001b[39;00m:\n",
      "File \u001b[1;32mc:\\Programming\\Python\\Install Files\\lib\\site-packages\\chefboost\\commons\\functions.py:14\u001b[0m, in \u001b[0;36mbulk_prediction\u001b[1;34m(df, model)\u001b[0m\n\u001b[0;32m     12\u001b[0m \u001b[39mfor\u001b[39;00m index, instance \u001b[39min\u001b[39;00m df\u001b[39m.\u001b[39miterrows():\n\u001b[0;32m     13\u001b[0m \tfeatures \u001b[39m=\u001b[39m instance\u001b[39m.\u001b[39mvalues[\u001b[39m0\u001b[39m:\u001b[39m-\u001b[39m\u001b[39m1\u001b[39m]\n\u001b[1;32m---> 14\u001b[0m \tprediction \u001b[39m=\u001b[39m cb\u001b[39m.\u001b[39;49mpredict(model, features)\n\u001b[0;32m     15\u001b[0m \tpredictions\u001b[39m.\u001b[39mappend(prediction)\n\u001b[0;32m     17\u001b[0m df[\u001b[39m'\u001b[39m\u001b[39mPrediction\u001b[39m\u001b[39m'\u001b[39m] \u001b[39m=\u001b[39m predictions\n",
      "File \u001b[1;32mc:\\Programming\\Python\\Install Files\\lib\\site-packages\\chefboost\\Chefboost.py:336\u001b[0m, in \u001b[0;36mpredict\u001b[1;34m(model, param)\u001b[0m\n\u001b[0;32m    334\u001b[0m \u001b[39melse\u001b[39;00m: \u001b[39m#regular decision tree\u001b[39;00m\n\u001b[0;32m    335\u001b[0m \ttree \u001b[39m=\u001b[39m trees[\u001b[39m0\u001b[39m]\n\u001b[1;32m--> 336\u001b[0m \tprediction \u001b[39m=\u001b[39m tree\u001b[39m.\u001b[39;49mfindDecision(param)\n\u001b[0;32m    338\u001b[0m \u001b[39mif\u001b[39;00m classification \u001b[39m==\u001b[39m \u001b[39mFalse\u001b[39;00m:\n\u001b[0;32m    339\u001b[0m \t\u001b[39mreturn\u001b[39;00m prediction\n",
      "File \u001b[1;32mc:\\Programming\\RIT\\Soft Dev for DS\\SAST21-Paper-main\\outputs/rules/rules.py:45\u001b[0m, in \u001b[0;36mfindDecision\u001b[1;34m(obj)\u001b[0m\n\u001b[0;32m     41\u001b[0m \u001b[39mif\u001b[39;00m obj[\u001b[39m17\u001b[39m]\u001b[39m<\u001b[39m\u001b[39m=\u001b[39m\u001b[39m0\u001b[39m:\n\u001b[0;32m     42\u001b[0m \t\u001b[39m# {\"feature\": \"unknownTest\", \"instances\": 62, \"metric_value\": 0.0, \"depth\": 21}\u001b[39;00m\n\u001b[0;32m     43\u001b[0m \t\u001b[39mif\u001b[39;00m obj[\u001b[39m20\u001b[39m]\u001b[39m<\u001b[39m\u001b[39m=\u001b[39m\u001b[39m0\u001b[39m:\n\u001b[0;32m     44\u001b[0m \t\t\u001b[39m# {\"feature\": \"verboseTest\", \"instances\": 62, \"metric_value\": 0.0, \"depth\": 22}\u001b[39;00m\n\u001b[1;32m---> 45\u001b[0m \t\t\u001b[39mif\u001b[39;00m obj[\u001b[39m21\u001b[39;49m]\u001b[39m<\u001b[39m\u001b[39m=\u001b[39m\u001b[39m0\u001b[39m:\n\u001b[0;32m     46\u001b[0m \t\t\t\u001b[39mreturn\u001b[39;00m \u001b[39m1\u001b[39m\n\u001b[0;32m     47\u001b[0m \t\t\u001b[39melse\u001b[39;00m: \u001b[39mreturn\u001b[39;00m \u001b[39m0.9838709677419355\u001b[39m\n",
      "\u001b[1;31mIndexError\u001b[0m: index 21 is out of bounds for axis 0 with size 21"
     ]
    }
   ],
   "source": [
    "config = {'algorithm': 'C4.5'}\n",
    "model = chef.fit(data, config = config, target_label = 'klass')\n",
    "prediction = chef.evaluate(model, X_test, task=\"test\", target_label=\"klass\")\n",
    "print(prediction)"
   ]
  }
 ],
 "metadata": {
  "kernelspec": {
   "display_name": "base",
   "language": "python",
   "name": "python3"
  },
  "language_info": {
   "codemirror_mode": {
    "name": "ipython",
    "version": 3
   },
   "file_extension": ".py",
   "mimetype": "text/x-python",
   "name": "python",
   "nbconvert_exporter": "python",
   "pygments_lexer": "ipython3",
   "version": "3.10.4"
  },
  "orig_nbformat": 4
 },
 "nbformat": 4,
 "nbformat_minor": 2
}
