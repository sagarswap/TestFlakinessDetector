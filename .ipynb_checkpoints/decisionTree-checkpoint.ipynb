{
 "cells": [
  {
   "cell_type": "code",
   "execution_count": 1,
   "metadata": {},
   "outputs": [
    {
     "name": "stdout",
     "output_type": "stream",
     "text": [
      "Requirement already satisfied: chefboost in /Users/maggie/opt/anaconda3/lib/python3.9/site-packages (0.0.17)\r\n",
      "Requirement already satisfied: numpy>=1.14.0 in /Users/maggie/opt/anaconda3/lib/python3.9/site-packages (from chefboost) (1.22.4)\r\n",
      "Requirement already satisfied: pandas>=0.22.0 in /Users/maggie/opt/anaconda3/lib/python3.9/site-packages (from chefboost) (1.4.2)\r\n",
      "Requirement already satisfied: psutil>=5.4.3 in /Users/maggie/opt/anaconda3/lib/python3.9/site-packages (from chefboost) (5.8.0)\r\n",
      "Requirement already satisfied: tqdm>=4.30.0 in /Users/maggie/opt/anaconda3/lib/python3.9/site-packages (from chefboost) (4.64.0)\r\n",
      "Requirement already satisfied: python-dateutil>=2.8.1 in /Users/maggie/opt/anaconda3/lib/python3.9/site-packages (from pandas>=0.22.0->chefboost) (2.8.2)\r\n",
      "Requirement already satisfied: pytz>=2020.1 in /Users/maggie/opt/anaconda3/lib/python3.9/site-packages (from pandas>=0.22.0->chefboost) (2021.3)\r\n",
      "Requirement already satisfied: six>=1.5 in /Users/maggie/opt/anaconda3/lib/python3.9/site-packages (from python-dateutil>=2.8.1->pandas>=0.22.0->chefboost) (1.16.0)\r\n"
     ]
    }
   ],
   "source": [
    "import sys\n",
    "!{sys.executable} -m pip install chefboost"
   ]
  },
  {
   "cell_type": "code",
   "execution_count": 198,
   "metadata": {},
   "outputs": [],
   "source": [
    "import numpy as np\n",
    "import pandas as pd\n",
    "from sklearn.tree import DecisionTreeClassifier\n",
    "from sklearn.model_selection import train_test_split\n",
    "from sklearn import metrics\n",
    "from chefboost import Chefboost as chef"
   ]
  },
  {
   "cell_type": "code",
   "execution_count": 199,
   "metadata": {},
   "outputs": [
    {
     "data": {
      "text/html": [
       "<div>\n",
       "<style scoped>\n",
       "    .dataframe tbody tr th:only-of-type {\n",
       "        vertical-align: middle;\n",
       "    }\n",
       "\n",
       "    .dataframe tbody tr th {\n",
       "        vertical-align: top;\n",
       "    }\n",
       "\n",
       "    .dataframe thead th {\n",
       "        text-align: right;\n",
       "    }\n",
       "</style>\n",
       "<table border=\"1\" class=\"dataframe\">\n",
       "  <thead>\n",
       "    <tr style=\"text-align: right;\">\n",
       "      <th></th>\n",
       "      <th>index</th>\n",
       "      <th>loc</th>\n",
       "      <th>smellsCount</th>\n",
       "      <th>assertionRoulette</th>\n",
       "      <th>conditionalTestLogic</th>\n",
       "      <th>constructorInitialization</th>\n",
       "      <th>defaultTest</th>\n",
       "      <th>duplicateAssert</th>\n",
       "      <th>eagerTest</th>\n",
       "      <th>emptyTest</th>\n",
       "      <th>...</th>\n",
       "      <th>magicNumberTest</th>\n",
       "      <th>mysteryGuest</th>\n",
       "      <th>printStatement</th>\n",
       "      <th>redundantAssertion</th>\n",
       "      <th>resourceOptimism</th>\n",
       "      <th>sensitiveEquality</th>\n",
       "      <th>sleepyTest</th>\n",
       "      <th>unknownTest</th>\n",
       "      <th>verboseTest</th>\n",
       "      <th>klass</th>\n",
       "    </tr>\n",
       "  </thead>\n",
       "  <tbody>\n",
       "    <tr>\n",
       "      <th>0</th>\n",
       "      <td>1221</td>\n",
       "      <td>22</td>\n",
       "      <td>4</td>\n",
       "      <td>1</td>\n",
       "      <td>0</td>\n",
       "      <td>0</td>\n",
       "      <td>0</td>\n",
       "      <td>0</td>\n",
       "      <td>1</td>\n",
       "      <td>0</td>\n",
       "      <td>...</td>\n",
       "      <td>1</td>\n",
       "      <td>0</td>\n",
       "      <td>0</td>\n",
       "      <td>0</td>\n",
       "      <td>0</td>\n",
       "      <td>0</td>\n",
       "      <td>0</td>\n",
       "      <td>0</td>\n",
       "      <td>0</td>\n",
       "      <td>1</td>\n",
       "    </tr>\n",
       "    <tr>\n",
       "      <th>1</th>\n",
       "      <td>1599</td>\n",
       "      <td>18</td>\n",
       "      <td>1</td>\n",
       "      <td>0</td>\n",
       "      <td>0</td>\n",
       "      <td>0</td>\n",
       "      <td>0</td>\n",
       "      <td>0</td>\n",
       "      <td>0</td>\n",
       "      <td>0</td>\n",
       "      <td>...</td>\n",
       "      <td>0</td>\n",
       "      <td>0</td>\n",
       "      <td>0</td>\n",
       "      <td>0</td>\n",
       "      <td>0</td>\n",
       "      <td>0</td>\n",
       "      <td>0</td>\n",
       "      <td>1</td>\n",
       "      <td>0</td>\n",
       "      <td>0</td>\n",
       "    </tr>\n",
       "    <tr>\n",
       "      <th>2</th>\n",
       "      <td>596</td>\n",
       "      <td>17</td>\n",
       "      <td>4</td>\n",
       "      <td>0</td>\n",
       "      <td>1</td>\n",
       "      <td>0</td>\n",
       "      <td>0</td>\n",
       "      <td>0</td>\n",
       "      <td>1</td>\n",
       "      <td>0</td>\n",
       "      <td>...</td>\n",
       "      <td>0</td>\n",
       "      <td>0</td>\n",
       "      <td>0</td>\n",
       "      <td>0</td>\n",
       "      <td>0</td>\n",
       "      <td>0</td>\n",
       "      <td>0</td>\n",
       "      <td>1</td>\n",
       "      <td>0</td>\n",
       "      <td>1</td>\n",
       "    </tr>\n",
       "    <tr>\n",
       "      <th>3</th>\n",
       "      <td>306</td>\n",
       "      <td>11</td>\n",
       "      <td>1</td>\n",
       "      <td>1</td>\n",
       "      <td>0</td>\n",
       "      <td>0</td>\n",
       "      <td>0</td>\n",
       "      <td>0</td>\n",
       "      <td>0</td>\n",
       "      <td>0</td>\n",
       "      <td>...</td>\n",
       "      <td>0</td>\n",
       "      <td>0</td>\n",
       "      <td>0</td>\n",
       "      <td>0</td>\n",
       "      <td>0</td>\n",
       "      <td>0</td>\n",
       "      <td>0</td>\n",
       "      <td>0</td>\n",
       "      <td>0</td>\n",
       "      <td>1</td>\n",
       "    </tr>\n",
       "    <tr>\n",
       "      <th>4</th>\n",
       "      <td>1890</td>\n",
       "      <td>13</td>\n",
       "      <td>2</td>\n",
       "      <td>0</td>\n",
       "      <td>0</td>\n",
       "      <td>0</td>\n",
       "      <td>0</td>\n",
       "      <td>0</td>\n",
       "      <td>1</td>\n",
       "      <td>0</td>\n",
       "      <td>...</td>\n",
       "      <td>0</td>\n",
       "      <td>0</td>\n",
       "      <td>0</td>\n",
       "      <td>0</td>\n",
       "      <td>0</td>\n",
       "      <td>0</td>\n",
       "      <td>0</td>\n",
       "      <td>0</td>\n",
       "      <td>0</td>\n",
       "      <td>0</td>\n",
       "    </tr>\n",
       "  </tbody>\n",
       "</table>\n",
       "<p>5 rows × 23 columns</p>\n",
       "</div>"
      ],
      "text/plain": [
       "   index  loc  smellsCount  assertionRoulette  conditionalTestLogic  \\\n",
       "0   1221   22            4                  1                     0   \n",
       "1   1599   18            1                  0                     0   \n",
       "2    596   17            4                  0                     1   \n",
       "3    306   11            1                  1                     0   \n",
       "4   1890   13            2                  0                     0   \n",
       "\n",
       "   constructorInitialization  defaultTest  duplicateAssert  eagerTest  \\\n",
       "0                          0            0                0          1   \n",
       "1                          0            0                0          0   \n",
       "2                          0            0                0          1   \n",
       "3                          0            0                0          0   \n",
       "4                          0            0                0          1   \n",
       "\n",
       "   emptyTest  ...  magicNumberTest  mysteryGuest  printStatement  \\\n",
       "0          0  ...                1             0               0   \n",
       "1          0  ...                0             0               0   \n",
       "2          0  ...                0             0               0   \n",
       "3          0  ...                0             0               0   \n",
       "4          0  ...                0             0               0   \n",
       "\n",
       "   redundantAssertion  resourceOptimism  sensitiveEquality  sleepyTest  \\\n",
       "0                   0                 0                  0           0   \n",
       "1                   0                 0                  0           0   \n",
       "2                   0                 0                  0           0   \n",
       "3                   0                 0                  0           0   \n",
       "4                   0                 0                  0           0   \n",
       "\n",
       "   unknownTest  verboseTest  klass  \n",
       "0            0            0      1  \n",
       "1            1            0      0  \n",
       "2            1            0      1  \n",
       "3            0            0      1  \n",
       "4            0            0      0  \n",
       "\n",
       "[5 rows x 23 columns]"
      ]
     },
     "execution_count": 199,
     "metadata": {},
     "output_type": "execute_result"
    }
   ],
   "source": [
    "data = pd.read_csv('processed_data.csv')\n",
    "data.head(5)"
   ]
  },
  {
   "cell_type": "markdown",
   "metadata": {},
   "source": [
    "Dataset Split"
   ]
  },
  {
   "cell_type": "code",
   "execution_count": 200,
   "metadata": {},
   "outputs": [],
   "source": [
    "features=data.drop(columns=['klass', 'index'])\n",
    "labels=data['klass']\n",
    "X_train, X_test, y_train, y_test = train_test_split(features, labels, test_size=0.1, random_state=1)"
   ]
  },
  {
   "cell_type": "code",
   "execution_count": 201,
   "metadata": {},
   "outputs": [
    {
     "name": "stdout",
     "output_type": "stream",
     "text": [
      "Accuracy :  0.831081081081081\n",
      "Recall :  0.8523489932885906\n",
      "F1 Score :  0.8355263157894737\n"
     ]
    }
   ],
   "source": [
    "# metrics for regular decision tree\n",
    "clf = DecisionTreeClassifier(criterion=\"gini\", max_depth=5)\n",
    "clf = clf.fit(X_train,y_train)\n",
    "y_pred = clf.predict(X_test)\n",
    "print(\"Accuracy : \",metrics.accuracy_score(y_test, y_pred))\n",
    "print(\"Recall : \",metrics.recall_score(y_test, y_pred))\n",
    "print(\"F1 Score : \",metrics.f1_score(y_test, y_pred))"
   ]
  },
  {
   "cell_type": "code",
   "execution_count": 202,
   "metadata": {},
   "outputs": [
    {
     "data": {
      "text/html": [
       "<div>\n",
       "<style scoped>\n",
       "    .dataframe tbody tr th:only-of-type {\n",
       "        vertical-align: middle;\n",
       "    }\n",
       "\n",
       "    .dataframe tbody tr th {\n",
       "        vertical-align: top;\n",
       "    }\n",
       "\n",
       "    .dataframe thead th {\n",
       "        text-align: right;\n",
       "    }\n",
       "</style>\n",
       "<table border=\"1\" class=\"dataframe\">\n",
       "  <thead>\n",
       "    <tr style=\"text-align: right;\">\n",
       "      <th></th>\n",
       "      <th>loc</th>\n",
       "      <th>smellsCount</th>\n",
       "      <th>assertionRoulette</th>\n",
       "      <th>conditionalTestLogic</th>\n",
       "      <th>constructorInitialization</th>\n",
       "      <th>defaultTest</th>\n",
       "      <th>duplicateAssert</th>\n",
       "      <th>eagerTest</th>\n",
       "      <th>emptyTest</th>\n",
       "      <th>generalFixture</th>\n",
       "      <th>...</th>\n",
       "      <th>lazyTest</th>\n",
       "      <th>magicNumberTest</th>\n",
       "      <th>mysteryGuest</th>\n",
       "      <th>printStatement</th>\n",
       "      <th>redundantAssertion</th>\n",
       "      <th>resourceOptimism</th>\n",
       "      <th>sensitiveEquality</th>\n",
       "      <th>sleepyTest</th>\n",
       "      <th>unknownTest</th>\n",
       "      <th>verboseTest</th>\n",
       "    </tr>\n",
       "  </thead>\n",
       "  <tbody>\n",
       "    <tr>\n",
       "      <th>2282</th>\n",
       "      <td>11</td>\n",
       "      <td>4</td>\n",
       "      <td>0</td>\n",
       "      <td>0</td>\n",
       "      <td>0</td>\n",
       "      <td>0</td>\n",
       "      <td>0</td>\n",
       "      <td>1</td>\n",
       "      <td>0</td>\n",
       "      <td>1</td>\n",
       "      <td>...</td>\n",
       "      <td>1</td>\n",
       "      <td>0</td>\n",
       "      <td>0</td>\n",
       "      <td>0</td>\n",
       "      <td>0</td>\n",
       "      <td>0</td>\n",
       "      <td>0</td>\n",
       "      <td>0</td>\n",
       "      <td>1</td>\n",
       "      <td>0</td>\n",
       "    </tr>\n",
       "    <tr>\n",
       "      <th>1039</th>\n",
       "      <td>18</td>\n",
       "      <td>4</td>\n",
       "      <td>1</td>\n",
       "      <td>0</td>\n",
       "      <td>0</td>\n",
       "      <td>0</td>\n",
       "      <td>0</td>\n",
       "      <td>1</td>\n",
       "      <td>0</td>\n",
       "      <td>0</td>\n",
       "      <td>...</td>\n",
       "      <td>1</td>\n",
       "      <td>0</td>\n",
       "      <td>0</td>\n",
       "      <td>0</td>\n",
       "      <td>0</td>\n",
       "      <td>0</td>\n",
       "      <td>1</td>\n",
       "      <td>0</td>\n",
       "      <td>0</td>\n",
       "      <td>0</td>\n",
       "    </tr>\n",
       "    <tr>\n",
       "      <th>1529</th>\n",
       "      <td>21</td>\n",
       "      <td>3</td>\n",
       "      <td>1</td>\n",
       "      <td>1</td>\n",
       "      <td>0</td>\n",
       "      <td>0</td>\n",
       "      <td>0</td>\n",
       "      <td>0</td>\n",
       "      <td>0</td>\n",
       "      <td>0</td>\n",
       "      <td>...</td>\n",
       "      <td>1</td>\n",
       "      <td>0</td>\n",
       "      <td>0</td>\n",
       "      <td>0</td>\n",
       "      <td>0</td>\n",
       "      <td>0</td>\n",
       "      <td>0</td>\n",
       "      <td>0</td>\n",
       "      <td>0</td>\n",
       "      <td>0</td>\n",
       "    </tr>\n",
       "    <tr>\n",
       "      <th>1147</th>\n",
       "      <td>6</td>\n",
       "      <td>1</td>\n",
       "      <td>0</td>\n",
       "      <td>0</td>\n",
       "      <td>0</td>\n",
       "      <td>0</td>\n",
       "      <td>0</td>\n",
       "      <td>0</td>\n",
       "      <td>0</td>\n",
       "      <td>0</td>\n",
       "      <td>...</td>\n",
       "      <td>0</td>\n",
       "      <td>0</td>\n",
       "      <td>0</td>\n",
       "      <td>0</td>\n",
       "      <td>0</td>\n",
       "      <td>0</td>\n",
       "      <td>0</td>\n",
       "      <td>0</td>\n",
       "      <td>1</td>\n",
       "      <td>0</td>\n",
       "    </tr>\n",
       "    <tr>\n",
       "      <th>318</th>\n",
       "      <td>24</td>\n",
       "      <td>5</td>\n",
       "      <td>1</td>\n",
       "      <td>0</td>\n",
       "      <td>0</td>\n",
       "      <td>0</td>\n",
       "      <td>1</td>\n",
       "      <td>1</td>\n",
       "      <td>0</td>\n",
       "      <td>0</td>\n",
       "      <td>...</td>\n",
       "      <td>1</td>\n",
       "      <td>1</td>\n",
       "      <td>0</td>\n",
       "      <td>0</td>\n",
       "      <td>0</td>\n",
       "      <td>0</td>\n",
       "      <td>0</td>\n",
       "      <td>0</td>\n",
       "      <td>0</td>\n",
       "      <td>0</td>\n",
       "    </tr>\n",
       "  </tbody>\n",
       "</table>\n",
       "<p>5 rows × 21 columns</p>\n",
       "</div>"
      ],
      "text/plain": [
       "      loc  smellsCount  assertionRoulette  conditionalTestLogic  \\\n",
       "2282   11            4                  0                     0   \n",
       "1039   18            4                  1                     0   \n",
       "1529   21            3                  1                     1   \n",
       "1147    6            1                  0                     0   \n",
       "318    24            5                  1                     0   \n",
       "\n",
       "      constructorInitialization  defaultTest  duplicateAssert  eagerTest  \\\n",
       "2282                          0            0                0          1   \n",
       "1039                          0            0                0          1   \n",
       "1529                          0            0                0          0   \n",
       "1147                          0            0                0          0   \n",
       "318                           0            0                1          1   \n",
       "\n",
       "      emptyTest  generalFixture  ...  lazyTest  magicNumberTest  mysteryGuest  \\\n",
       "2282          0               1  ...         1                0             0   \n",
       "1039          0               0  ...         1                0             0   \n",
       "1529          0               0  ...         1                0             0   \n",
       "1147          0               0  ...         0                0             0   \n",
       "318           0               0  ...         1                1             0   \n",
       "\n",
       "      printStatement  redundantAssertion  resourceOptimism  sensitiveEquality  \\\n",
       "2282               0                   0                 0                  0   \n",
       "1039               0                   0                 0                  1   \n",
       "1529               0                   0                 0                  0   \n",
       "1147               0                   0                 0                  0   \n",
       "318                0                   0                 0                  0   \n",
       "\n",
       "      sleepyTest  unknownTest  verboseTest  \n",
       "2282           0            1            0  \n",
       "1039           0            0            0  \n",
       "1529           0            0            0  \n",
       "1147           0            1            0  \n",
       "318            0            0            0  \n",
       "\n",
       "[5 rows x 21 columns]"
      ]
     },
     "execution_count": 202,
     "metadata": {},
     "output_type": "execute_result"
    }
   ],
   "source": [
    "X_train.head(5)"
   ]
  },
  {
   "cell_type": "code",
   "execution_count": 203,
   "metadata": {},
   "outputs": [
    {
     "name": "stdout",
     "output_type": "stream",
     "text": [
      "Accuracy :  0.8445945945945946\n",
      "Recall :  0.8120805369127517\n",
      "F1 Score :  0.8402777777777778\n"
     ]
    }
   ],
   "source": [
    "# metrics for regular decision tree, minus seven metrics where mattew correlation coef was less than 0.1\n",
    "X_train2=X_train.drop(columns=['conditionalTestLogic', 'eagerTest', 'magicNumberTest', 'redundantAssertion', 'resourceOptimism', 'unknownTest', 'verboseTest'])\n",
    "X_test2=X_test.drop(columns=['conditionalTestLogic', 'eagerTest', 'magicNumberTest', 'redundantAssertion', 'resourceOptimism', 'unknownTest', 'verboseTest'])\n",
    "clf2 = DecisionTreeClassifier()\n",
    "clf2 = clf2.fit(X_train2,y_train)\n",
    "y_pred2 = clf2.predict(X_test2)\n",
    "print(\"Accuracy : \",metrics.accuracy_score(y_test, y_pred2))\n",
    "print(\"Recall : \",metrics.recall_score(y_test, y_pred2))\n",
    "print(\"F1 Score : \",metrics.f1_score(y_test, y_pred2))"
   ]
  },
  {
   "cell_type": "markdown",
   "metadata": {},
   "source": [
    "Using new DT Algos"
   ]
  },
  {
   "cell_type": "code",
   "execution_count": 204,
   "metadata": {},
   "outputs": [
    {
     "data": {
      "text/plain": [
       "Index(['loc', 'smellsCount', 'assertionRoulette', 'conditionalTestLogic',\n",
       "       'constructorInitialization', 'defaultTest', 'duplicateAssert',\n",
       "       'eagerTest', 'emptyTest', 'generalFixture', 'ignoredTest', 'lazyTest',\n",
       "       'magicNumberTest', 'mysteryGuest', 'printStatement',\n",
       "       'redundantAssertion', 'resourceOptimism', 'sensitiveEquality',\n",
       "       'sleepyTest', 'unknownTest', 'verboseTest'],\n",
       "      dtype='object')"
      ]
     },
     "execution_count": 204,
     "metadata": {},
     "output_type": "execute_result"
    }
   ],
   "source": [
    "features.columns # using original dataset first, will implement updated dataset with removed smells later"
   ]
  },
  {
   "cell_type": "markdown",
   "metadata": {},
   "source": [
    "In chefboost, the target variable must be stored in the same df as the features, it must be called Decision, and it must be the last column of the dataframe (for a workaround just set target_label=klass instead of having to create a new column)\n",
    "\n",
    "source: https://towardsdatascience.com/chefboost-an-alternative-python-library-for-tree-based-models-f46af028a348\n"
   ]
  },
  {
   "cell_type": "code",
   "execution_count": 205,
   "metadata": {},
   "outputs": [],
   "source": [
    "# converting values of \"klass\" column to object or bool (?) instead of int (causing regression error)\n",
    "data['Decision'] = data['klass'].astype(str)\n",
    "#data['loc'] = data['loc'].astype(int)\n",
    "data = data.drop(columns=['index', 'klass'])\n",
    "\n",
    "features = data\n",
    "labels=data['Decision']"
   ]
  },
  {
   "cell_type": "code",
   "execution_count": 206,
   "metadata": {},
   "outputs": [],
   "source": [
    "X_train, X_test= train_test_split(features, test_size=0.1, random_state=1)"
   ]
  },
  {
   "cell_type": "code",
   "execution_count": 207,
   "metadata": {},
   "outputs": [
    {
     "data": {
      "text/plain": [
       "loc                            int64\n",
       "smellsCount                    int64\n",
       "assertionRoulette              int64\n",
       "conditionalTestLogic           int64\n",
       "constructorInitialization      int64\n",
       "defaultTest                    int64\n",
       "duplicateAssert                int64\n",
       "eagerTest                      int64\n",
       "emptyTest                      int64\n",
       "generalFixture                 int64\n",
       "ignoredTest                  float64\n",
       "lazyTest                       int64\n",
       "magicNumberTest                int64\n",
       "mysteryGuest                   int64\n",
       "printStatement                 int64\n",
       "redundantAssertion             int64\n",
       "resourceOptimism               int64\n",
       "sensitiveEquality              int64\n",
       "sleepyTest                     int64\n",
       "unknownTest                    int64\n",
       "verboseTest                    int64\n",
       "Decision                      object\n",
       "dtype: object"
      ]
     },
     "execution_count": 207,
     "metadata": {},
     "output_type": "execute_result"
    }
   ],
   "source": [
    "#print(\"labels type: \", labels.dtype)\n",
    "#print(\"Decision type: \", data['Decision'].dtype)\n",
    "X_train.dtypes\n",
    "#labels.dtypes\n",
    "#X_train.head(5)"
   ]
  },
  {
   "cell_type": "code",
   "execution_count": 208,
   "metadata": {},
   "outputs": [
    {
     "name": "stdout",
     "output_type": "stream",
     "text": [
      "[INFO]:  4 CPU cores will be allocated in parallel running\n",
      "ID3  tree is going to be built...\n",
      "-------------------------\n",
      "finished in  28.495698928833008  seconds\n",
      "-------------------------\n",
      "Evaluate  train set\n",
      "-------------------------\n",
      "Accuracy:  80.9559653744825 % on  2657  instances\n",
      "Labels:  ['1' '0']\n",
      "Confusion matrix:  [[1080, 182], [324, 1071]]\n",
      "Precision:  85.5784 %, Recall:  76.9231 %, F1:  81.0202 %\n",
      "-------------------------\n",
      "Evaluate  test set\n",
      "-------------------------\n",
      "Accuracy:  84.12162162162163 % on  296  instances\n",
      "Labels:  ['0' '1']\n",
      "Confusion matrix:  [[124, 24], [23, 125]]\n",
      "Precision:  83.7838 %, Recall:  84.3537 %, F1:  84.0678 %\n",
      "None\n"
     ]
    }
   ],
   "source": [
    "config = {'algorithm': 'ID3'}\n",
    "model = chef.fit(X_train, config)\n",
    "prediction = chef.evaluate(model, X_test, task=\"test\")\n",
    "print(prediction)"
   ]
  },
  {
   "cell_type": "code",
   "execution_count": null,
   "metadata": {},
   "outputs": [],
   "source": []
  },
  {
   "cell_type": "code",
   "execution_count": null,
   "metadata": {},
   "outputs": [],
   "source": []
  },
  {
   "cell_type": "markdown",
   "metadata": {},
   "source": [
    "removing smells with mattews coefficient value of less than 0.1"
   ]
  },
  {
   "cell_type": "code",
   "execution_count": 209,
   "metadata": {},
   "outputs": [
    {
     "data": {
      "text/html": [
       "<div>\n",
       "<style scoped>\n",
       "    .dataframe tbody tr th:only-of-type {\n",
       "        vertical-align: middle;\n",
       "    }\n",
       "\n",
       "    .dataframe tbody tr th {\n",
       "        vertical-align: top;\n",
       "    }\n",
       "\n",
       "    .dataframe thead th {\n",
       "        text-align: right;\n",
       "    }\n",
       "</style>\n",
       "<table border=\"1\" class=\"dataframe\">\n",
       "  <thead>\n",
       "    <tr style=\"text-align: right;\">\n",
       "      <th></th>\n",
       "      <th>loc</th>\n",
       "      <th>smellsCount</th>\n",
       "      <th>assertionRoulette</th>\n",
       "      <th>constructorInitialization</th>\n",
       "      <th>defaultTest</th>\n",
       "      <th>duplicateAssert</th>\n",
       "      <th>emptyTest</th>\n",
       "      <th>generalFixture</th>\n",
       "      <th>ignoredTest</th>\n",
       "      <th>lazyTest</th>\n",
       "      <th>mysteryGuest</th>\n",
       "      <th>printStatement</th>\n",
       "      <th>sensitiveEquality</th>\n",
       "      <th>sleepyTest</th>\n",
       "      <th>Decision</th>\n",
       "    </tr>\n",
       "  </thead>\n",
       "  <tbody>\n",
       "    <tr>\n",
       "      <th>0</th>\n",
       "      <td>22</td>\n",
       "      <td>4</td>\n",
       "      <td>1</td>\n",
       "      <td>0</td>\n",
       "      <td>0</td>\n",
       "      <td>0</td>\n",
       "      <td>0</td>\n",
       "      <td>0</td>\n",
       "      <td>0.0</td>\n",
       "      <td>1</td>\n",
       "      <td>0</td>\n",
       "      <td>0</td>\n",
       "      <td>0</td>\n",
       "      <td>0</td>\n",
       "      <td>1</td>\n",
       "    </tr>\n",
       "    <tr>\n",
       "      <th>1</th>\n",
       "      <td>18</td>\n",
       "      <td>1</td>\n",
       "      <td>0</td>\n",
       "      <td>0</td>\n",
       "      <td>0</td>\n",
       "      <td>0</td>\n",
       "      <td>0</td>\n",
       "      <td>0</td>\n",
       "      <td>0.0</td>\n",
       "      <td>0</td>\n",
       "      <td>0</td>\n",
       "      <td>0</td>\n",
       "      <td>0</td>\n",
       "      <td>0</td>\n",
       "      <td>0</td>\n",
       "    </tr>\n",
       "    <tr>\n",
       "      <th>2</th>\n",
       "      <td>17</td>\n",
       "      <td>4</td>\n",
       "      <td>0</td>\n",
       "      <td>0</td>\n",
       "      <td>0</td>\n",
       "      <td>0</td>\n",
       "      <td>0</td>\n",
       "      <td>0</td>\n",
       "      <td>0.0</td>\n",
       "      <td>1</td>\n",
       "      <td>0</td>\n",
       "      <td>0</td>\n",
       "      <td>0</td>\n",
       "      <td>0</td>\n",
       "      <td>1</td>\n",
       "    </tr>\n",
       "    <tr>\n",
       "      <th>3</th>\n",
       "      <td>11</td>\n",
       "      <td>1</td>\n",
       "      <td>1</td>\n",
       "      <td>0</td>\n",
       "      <td>0</td>\n",
       "      <td>0</td>\n",
       "      <td>0</td>\n",
       "      <td>0</td>\n",
       "      <td>0.0</td>\n",
       "      <td>0</td>\n",
       "      <td>0</td>\n",
       "      <td>0</td>\n",
       "      <td>0</td>\n",
       "      <td>0</td>\n",
       "      <td>1</td>\n",
       "    </tr>\n",
       "    <tr>\n",
       "      <th>4</th>\n",
       "      <td>13</td>\n",
       "      <td>2</td>\n",
       "      <td>0</td>\n",
       "      <td>0</td>\n",
       "      <td>0</td>\n",
       "      <td>0</td>\n",
       "      <td>0</td>\n",
       "      <td>0</td>\n",
       "      <td>0.0</td>\n",
       "      <td>1</td>\n",
       "      <td>0</td>\n",
       "      <td>0</td>\n",
       "      <td>0</td>\n",
       "      <td>0</td>\n",
       "      <td>0</td>\n",
       "    </tr>\n",
       "  </tbody>\n",
       "</table>\n",
       "</div>"
      ],
      "text/plain": [
       "   loc  smellsCount  assertionRoulette  constructorInitialization  \\\n",
       "0   22            4                  1                          0   \n",
       "1   18            1                  0                          0   \n",
       "2   17            4                  0                          0   \n",
       "3   11            1                  1                          0   \n",
       "4   13            2                  0                          0   \n",
       "\n",
       "   defaultTest  duplicateAssert  emptyTest  generalFixture  ignoredTest  \\\n",
       "0            0                0          0               0          0.0   \n",
       "1            0                0          0               0          0.0   \n",
       "2            0                0          0               0          0.0   \n",
       "3            0                0          0               0          0.0   \n",
       "4            0                0          0               0          0.0   \n",
       "\n",
       "   lazyTest  mysteryGuest  printStatement  sensitiveEquality  sleepyTest  \\\n",
       "0         1             0               0                  0           0   \n",
       "1         0             0               0                  0           0   \n",
       "2         1             0               0                  0           0   \n",
       "3         0             0               0                  0           0   \n",
       "4         1             0               0                  0           0   \n",
       "\n",
       "  Decision  \n",
       "0        1  \n",
       "1        0  \n",
       "2        1  \n",
       "3        1  \n",
       "4        0  "
      ]
     },
     "execution_count": 209,
     "metadata": {},
     "output_type": "execute_result"
    }
   ],
   "source": [
    "reduced_data = data.drop(columns=['conditionalTestLogic', 'eagerTest', 'magicNumberTest', 'redundantAssertion', 'resourceOptimism', 'unknownTest', 'verboseTest'])\n",
    "reduced_features = reduced_data\n",
    "reduced_data.head(5)"
   ]
  },
  {
   "cell_type": "code",
   "execution_count": 210,
   "metadata": {},
   "outputs": [],
   "source": [
    "X_train_reduced, X_test_reduced= train_test_split(reduced_features, test_size=0.1, random_state=1)"
   ]
  },
  {
   "cell_type": "code",
   "execution_count": 213,
   "metadata": {},
   "outputs": [
    {
     "name": "stdout",
     "output_type": "stream",
     "text": [
      "[INFO]:  4 CPU cores will be allocated in parallel running\n",
      "ID3  tree is going to be built...\n",
      "-------------------------\n",
      "finished in  7.572775840759277  seconds\n",
      "-------------------------\n",
      "Evaluate  train set\n",
      "-------------------------\n",
      "Accuracy:  77.83214151298456 % on  2657  instances\n",
      "Labels:  ['1' '0']\n",
      "Confusion matrix:  [[1009, 194], [395, 1059]]\n",
      "Precision:  83.8736 %, Recall:  71.8661 %, F1:  77.407 %\n",
      "['loc', 'smellsCount', 'assertionRoulette', 'constructorInitialization', 'defaultTest', 'duplicateAssert', 'emptyTest', 'generalFixture', 'ignoredTest', 'lazyTest', 'mysteryGuest', 'printStatement', 'sensitiveEquality', 'sleepyTest', 'Prediction', 'Decision']\n",
      "-------------------------\n",
      "Evaluate  test set\n",
      "-------------------------\n",
      "Accuracy:  50.33783783783784 % on  296  instances\n",
      "Labels:  ['0' '1']\n",
      "Confusion matrix:  [[0, 0], [147, 149]]\n",
      "Precision:  0.0 %, Recall:  0.0 %, F1:  0.0 %\n",
      "None\n"
     ]
    }
   ],
   "source": [
    "#config = {'algorithm': 'ID3'}\n",
    "model = chef.fit(X_train_reduced, config)\n",
    "reduced_prediction = chef.evaluate(model, X_test_reduced, task=\"test\")\n",
    "print(reduced_prediction)"
   ]
  },
  {
   "cell_type": "code",
   "execution_count": null,
   "metadata": {},
   "outputs": [],
   "source": []
  },
  {
   "cell_type": "code",
   "execution_count": 235,
   "metadata": {},
   "outputs": [
    {
     "name": "stdout",
     "output_type": "stream",
     "text": [
      "[INFO]:  4 CPU cores will be allocated in parallel running\n",
      "C4.5  tree is going to be built...\n",
      "-------------------------\n",
      "finished in  21.099955797195435  seconds\n",
      "-------------------------\n",
      "Evaluate  train set\n",
      "-------------------------\n",
      "Accuracy:  80.9559653744825 % on  2657  instances\n",
      "Labels:  ['1' '0']\n",
      "Confusion matrix:  [[1080, 182], [324, 1071]]\n",
      "Precision:  85.5784 %, Recall:  76.9231 %, F1:  81.0202 %\n",
      "['loc', 'smellsCount', 'assertionRoulette', 'conditionalTestLogic', 'constructorInitialization', 'defaultTest', 'duplicateAssert', 'eagerTest', 'emptyTest', 'generalFixture', 'ignoredTest', 'lazyTest', 'magicNumberTest', 'mysteryGuest', 'printStatement', 'redundantAssertion', 'resourceOptimism', 'sensitiveEquality', 'sleepyTest', 'unknownTest', 'verboseTest', 'Prediction', 'Decision']\n",
      "-------------------------\n",
      "Evaluate  test set\n",
      "-------------------------\n",
      "Accuracy:  50.33783783783784 % on  296  instances\n",
      "Labels:  ['0' '1']\n",
      "Confusion matrix:  [[0, 0], [147, 149]]\n",
      "Precision:  0.0 %, Recall:  0.0 %, F1:  0.0 %\n",
      "None\n"
     ]
    }
   ],
   "source": [
    "config = {'algorithm': 'C4.5'}\n",
    "model = chef.fit(X_train, config)\n",
    "prediction = chef.evaluate(model, X_test, task=\"test\")\n",
    "print(prediction)"
   ]
  },
  {
   "cell_type": "code",
   "execution_count": 236,
   "metadata": {},
   "outputs": [
    {
     "name": "stdout",
     "output_type": "stream",
     "text": [
      "[INFO]:  4 CPU cores will be allocated in parallel running\n",
      "C4.5  tree is going to be built...\n",
      "-------------------------\n",
      "finished in  5.399662971496582  seconds\n",
      "-------------------------\n",
      "Evaluate  train set\n",
      "-------------------------\n",
      "Accuracy:  77.22995859992473 % on  2657  instances\n",
      "Labels:  ['1' '0']\n",
      "Confusion matrix:  [[1005, 206], [399, 1047]]\n",
      "Precision:  82.9893 %, Recall:  71.5812 %, F1:  76.8643 %\n",
      "['loc', 'smellsCount', 'assertionRoulette', 'constructorInitialization', 'defaultTest', 'duplicateAssert', 'emptyTest', 'generalFixture', 'ignoredTest', 'lazyTest', 'mysteryGuest', 'printStatement', 'sensitiveEquality', 'sleepyTest', 'Prediction', 'Decision']\n",
      "-------------------------\n",
      "Evaluate  test set\n",
      "-------------------------\n",
      "Accuracy:  50.33783783783784 % on  296  instances\n",
      "Labels:  ['0' '1']\n",
      "Confusion matrix:  [[0, 0], [147, 149]]\n",
      "Precision:  0.0 %, Recall:  0.0 %, F1:  0.0 %\n"
     ]
    }
   ],
   "source": [
    "model = chef.fit(X_train_reduced, config)\n",
    "chef.evaluate(model, X_test_reduced, task=\"test\")"
   ]
  },
  {
   "cell_type": "code",
   "execution_count": 223,
   "metadata": {},
   "outputs": [
    {
     "name": "stdout",
     "output_type": "stream",
     "text": [
      "[INFO]:  4 CPU cores will be allocated in parallel running\n",
      "CART  tree is going to be built...\n",
      "-------------------------\n",
      "finished in  26.467814922332764  seconds\n",
      "-------------------------\n",
      "Evaluate  train set\n",
      "-------------------------\n",
      "Accuracy:  80.9559653744825 % on  2657  instances\n",
      "Labels:  ['1' '0']\n",
      "Confusion matrix:  [[1080, 182], [324, 1071]]\n",
      "Precision:  85.5784 %, Recall:  76.9231 %, F1:  81.0202 %\n",
      "['loc', 'smellsCount', 'assertionRoulette', 'conditionalTestLogic', 'constructorInitialization', 'defaultTest', 'duplicateAssert', 'eagerTest', 'emptyTest', 'generalFixture', 'ignoredTest', 'lazyTest', 'magicNumberTest', 'mysteryGuest', 'printStatement', 'redundantAssertion', 'resourceOptimism', 'sensitiveEquality', 'sleepyTest', 'unknownTest', 'verboseTest', 'Prediction', 'Decision']\n",
      "-------------------------\n",
      "Evaluate  test set\n",
      "-------------------------\n",
      "Accuracy:  50.33783783783784 % on  296  instances\n",
      "Labels:  ['0' '1']\n",
      "Confusion matrix:  [[0, 0], [147, 149]]\n",
      "Precision:  0.0 %, Recall:  0.0 %, F1:  0.0 %\n",
      "None\n"
     ]
    }
   ],
   "source": [
    "config = {'algorithm': 'CART'}\n",
    "model = chef.fit(X_train, config)\n",
    "prediction = chef.evaluate(model, X_test, task=\"test\")\n",
    "print(prediction)"
   ]
  },
  {
   "cell_type": "code",
   "execution_count": 231,
   "metadata": {},
   "outputs": [
    {
     "name": "stdout",
     "output_type": "stream",
     "text": [
      "[INFO]:  4 CPU cores will be allocated in parallel running\n",
      "CHAID  tree is going to be built...\n",
      "-------------------------\n",
      "finished in  29.037916898727417  seconds\n",
      "-------------------------\n",
      "Evaluate  train set\n",
      "-------------------------\n",
      "Accuracy:  80.9559653744825 % on  2657  instances\n",
      "Labels:  ['1' '0']\n",
      "Confusion matrix:  [[1080, 182], [324, 1071]]\n",
      "Precision:  85.5784 %, Recall:  76.9231 %, F1:  81.0202 %\n",
      "['loc', 'smellsCount', 'assertionRoulette', 'conditionalTestLogic', 'constructorInitialization', 'defaultTest', 'duplicateAssert', 'eagerTest', 'emptyTest', 'generalFixture', 'ignoredTest', 'lazyTest', 'magicNumberTest', 'mysteryGuest', 'printStatement', 'redundantAssertion', 'resourceOptimism', 'sensitiveEquality', 'sleepyTest', 'unknownTest', 'verboseTest', 'Prediction', 'Decision']\n",
      "-------------------------\n",
      "Evaluate  test set\n",
      "-------------------------\n",
      "Accuracy:  50.33783783783784 % on  296  instances\n",
      "Labels:  ['0' '1']\n",
      "Confusion matrix:  [[0, 0], [147, 149]]\n",
      "Precision:  0.0 %, Recall:  0.0 %, F1:  0.0 %\n"
     ]
    }
   ],
   "source": [
    "config = {'algorithm': 'CHAID'}\n",
    "model = chef.fit(X_train, config)\n",
    "chef.evaluate(model, X_test, task=\"test\")\n",
    "#print(prediction)"
   ]
  },
  {
   "cell_type": "code",
   "execution_count": 233,
   "metadata": {},
   "outputs": [
    {
     "name": "stdout",
     "output_type": "stream",
     "text": [
      "[INFO]:  4 CPU cores will be allocated in parallel running\n",
      "CHAID  tree is going to be built...\n",
      "-------------------------\n",
      "finished in  7.6796770095825195  seconds\n",
      "-------------------------\n",
      "Evaluate  train set\n",
      "-------------------------\n",
      "Accuracy:  77.49341362438841 % on  2657  instances\n",
      "Labels:  ['1' '0']\n",
      "Confusion matrix:  [[1006, 200], [398, 1053]]\n",
      "Precision:  83.4163 %, Recall:  71.6524 %, F1:  77.0881 %\n",
      "['loc', 'smellsCount', 'assertionRoulette', 'constructorInitialization', 'defaultTest', 'duplicateAssert', 'emptyTest', 'generalFixture', 'ignoredTest', 'lazyTest', 'mysteryGuest', 'printStatement', 'sensitiveEquality', 'sleepyTest', 'Prediction', 'Decision']\n",
      "-------------------------\n",
      "Evaluate  test set\n",
      "-------------------------\n",
      "Accuracy:  50.33783783783784 % on  296  instances\n",
      "Labels:  ['0' '1']\n",
      "Confusion matrix:  [[0, 0], [147, 149]]\n",
      "Precision:  0.0 %, Recall:  0.0 %, F1:  0.0 %\n"
     ]
    }
   ],
   "source": [
    "model = chef.fit(X_train_reduced, config)\n",
    "chef.evaluate(model, X_test_reduced, task=\"test\")"
   ]
  },
  {
   "cell_type": "code",
   "execution_count": null,
   "metadata": {},
   "outputs": [],
   "source": []
  },
  {
   "cell_type": "code",
   "execution_count": null,
   "metadata": {},
   "outputs": [],
   "source": [
    "# C5.0\n",
    "# https://topepo.github.io/C5.0/reference/C5.0.html\n",
    "\n",
    "# not fully implemented yet in python, will need to figure this out"
   ]
  },
  {
   "cell_type": "code",
   "execution_count": null,
   "metadata": {},
   "outputs": [],
   "source": []
  },
  {
   "cell_type": "code",
   "execution_count": 241,
   "metadata": {
    "scrolled": true
   },
   "outputs": [],
   "source": [
    "# Supervised Learning in Ques (SLIQ)\n",
    "# https://datascience.stackexchange.com/questions/109450/decision-tree-sprint-vs-sliq\n",
    "# https://www.quora.com/What-is-the-best-way-to-implement-C4-5-or-C5-0-algorithm-using-Python\n",
    "# https://kandi.openweaver.com/python/wilsonlj/SLIQ\n",
    "\n",
    "# doesn't have a great implementation in python. Can use other people's code from github"
   ]
  },
  {
   "cell_type": "code",
   "execution_count": null,
   "metadata": {},
   "outputs": [],
   "source": []
  },
  {
   "cell_type": "code",
   "execution_count": null,
   "metadata": {},
   "outputs": [],
   "source": [
    "# decision stump\n",
    "\n"
   ]
  },
  {
   "cell_type": "code",
   "execution_count": 240,
   "metadata": {},
   "outputs": [],
   "source": []
  },
  {
   "cell_type": "code",
   "execution_count": null,
   "metadata": {},
   "outputs": [],
   "source": []
  },
  {
   "cell_type": "code",
   "execution_count": null,
   "metadata": {},
   "outputs": [],
   "source": []
  },
  {
   "cell_type": "code",
   "execution_count": 246,
   "metadata": {},
   "outputs": [
    {
     "name": "stdout",
     "output_type": "stream",
     "text": [
      "                test type  train accuracy  test accuracy\n",
      "0                     ID3           80.96          84.12\n",
      "2                    C4.5           80.96          50.34\n",
      "4                   CHAID           80.96          50.34\n",
      "6                    CART           80.96          50.34\n",
      "1    reduced features ID3           77.83          50.34\n",
      "5  reduced features CHAID           77.49          50.34\n",
      "3   reduced features C4.5           77.23          50.34\n"
     ]
    }
   ],
   "source": [
    "results = pd.DataFrame({'test type' : ['ID3', 'reduced features ID3', 'C4.5', 'reduced features C4.5', 'CHAID', 'reduced features CHAID', 'CART',],\n",
    "                      'train accuracy' :[80.96, 77.83, 80.96, 77.23, 80.96, 77.49, 80.96],\n",
    "                       'test accuracy' : [84.12, 50.34, 50.34, 50.34, 50.34, 50.34, 50.34]})\n",
    "print(results.sort_values(by=['test accuracy', 'train accuracy'], ascending=False))"
   ]
  },
  {
   "cell_type": "code",
   "execution_count": null,
   "metadata": {},
   "outputs": [],
   "source": [
    "# such a low accuracy means it's not doing much better than random guessing"
   ]
  }
 ],
 "metadata": {
  "kernelspec": {
   "display_name": "Python 3 (ipykernel)",
   "language": "python",
   "name": "python3"
  },
  "language_info": {
   "codemirror_mode": {
    "name": "ipython",
    "version": 3
   },
   "file_extension": ".py",
   "mimetype": "text/x-python",
   "name": "python",
   "nbconvert_exporter": "python",
   "pygments_lexer": "ipython3",
   "version": "3.9.12"
  },
  "vscode": {
   "interpreter": {
    "hash": "7e1998ff7f8aa20ada591c520b972326324e5ea05489af9e422744c7c09f6dad"
   }
  }
 },
 "nbformat": 4,
 "nbformat_minor": 2
}
